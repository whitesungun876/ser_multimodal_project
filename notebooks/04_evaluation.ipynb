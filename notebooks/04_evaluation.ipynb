{
 "cells": [
  {
   "cell_type": "markdown",
   "id": "1314341d",
   "metadata": {},
   "source": [
    "# 04 模型评估与可解释性\n",
    "\n",
    "本 notebook 用于模型性能评估与解释。"
   ]
  }
 ],
 "metadata": {},
 "nbformat": 4,
 "nbformat_minor": 5
}
