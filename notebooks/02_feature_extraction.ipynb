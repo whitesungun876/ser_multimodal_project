{
 "cells": [
  {
   "cell_type": "markdown",
   "id": "0177c77c",
   "metadata": {},
   "source": [
    "# 02 特征提取\n",
    "\n",
    "本 notebook 用于音频和文本的特征提取。"
   ]
  }
 ],
 "metadata": {},
 "nbformat": 4,
 "nbformat_minor": 5
}
