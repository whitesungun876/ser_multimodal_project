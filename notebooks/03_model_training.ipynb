{
 "cells": [
  {
   "cell_type": "markdown",
   "id": "cd7918de",
   "metadata": {},
   "source": [
    "# 03 模型训练\n",
    "\n",
    "本 notebook 用于构建和训练模型。"
   ]
  }
 ],
 "metadata": {},
 "nbformat": 4,
 "nbformat_minor": 5
}
